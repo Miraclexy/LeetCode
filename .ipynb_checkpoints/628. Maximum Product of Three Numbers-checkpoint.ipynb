{
 "cells": [
  {
   "cell_type": "markdown",
   "metadata": {},
   "source": [
    "## 628. Maximum Product of Three Numbers"
   ]
  },
  {
   "cell_type": "markdown",
   "metadata": {},
   "source": [
    "Given an integer array, find three numbers whose product is maximum and output the maximum product.\n",
    "\n",
    "Example 1:\n",
    "\n",
    "Input: [1,2,3]\n",
    "Output: 6\n",
    " \n",
    "\n",
    "Example 2:\n",
    "\n",
    "Input: [1,2,3,4]\n",
    "Output: 24"
   ]
  },
  {
   "cell_type": "markdown",
   "metadata": {},
   "source": [
    "## Solution(faster than 49.82% of Python)"
   ]
  },
  {
   "cell_type": "code",
   "execution_count": null,
   "metadata": {},
   "outputs": [],
   "source": [
    "class Solution(object):\n",
    "    def maximumProduct(self, nums):\n",
    "        \"\"\"\n",
    "        :type nums: List[int]\n",
    "        :rtype: int\n",
    "        \"\"\"\n",
    "        if len(nums)==3:\n",
    "            return nums[0]*nums[1]*nums[2]\n",
    "        nums.sort(reverse=True)\n",
    "        nums = [i for i in nums if i!=0]\n",
    "        if len(nums)<3:\n",
    "            return 0\n",
    "        if nums[0]>0 and nums[1]>0 and nums[2]>0:\n",
    "            return max(nums[0]*nums[1]*nums[2],nums[0]*nums[-1]*nums[-2])\n",
    "        if nums[0]>0 and nums[1]>0 and nums[2]<0:\n",
    "            return nums[0]*nums[-1]*nums[-2]\n",
    "        if nums[0]>0 and nums[1]<0 and nums[2]<0:\n",
    "            return max(nums[0]*nums[1]*nums[2],nums[0]*nums[-1]*nums[-2])\n",
    "        else:\n",
    "            return nums[0]*nums[1]*nums[2]"
   ]
  }
 ],
 "metadata": {
  "kernelspec": {
   "display_name": "Python 3",
   "language": "python",
   "name": "python3"
  },
  "language_info": {
   "codemirror_mode": {
    "name": "ipython",
    "version": 3
   },
   "file_extension": ".py",
   "mimetype": "text/x-python",
   "name": "python",
   "nbconvert_exporter": "python",
   "pygments_lexer": "ipython3",
   "version": "3.7.4"
  }
 },
 "nbformat": 4,
 "nbformat_minor": 2
}
