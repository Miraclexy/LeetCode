{
 "cells": [
  {
   "cell_type": "markdown",
   "metadata": {},
   "source": [
    "## 599. Minimum Index Sum of Two Lists"
   ]
  },
  {
   "cell_type": "markdown",
   "metadata": {},
   "source": [
    "Suppose Andy and Doris want to choose a restaurant for dinner, and they both have a list of favorite restaurants represented by strings.\n",
    "\n",
    "You need to help them find out their common interest with the least list index sum. If there is a choice tie between answers, output all of them with no order requirement. You could assume there always exists an answer.\n",
    "\n",
    "Example 1:\n",
    "Input:\n",
    "[\"Shogun\", \"Tapioca Express\", \"Burger King\", \"KFC\"]\n",
    "[\"Piatti\", \"The Grill at Torrey Pines\", \"Hungry Hunter Steakhouse\", \"Shogun\"]\n",
    "Output: [\"Shogun\"]\n",
    "Explanation: The only restaurant they both like is \"Shogun\".\n",
    "Example 2:\n",
    "Input:\n",
    "[\"Shogun\", \"Tapioca Express\", \"Burger King\", \"KFC\"]\n",
    "[\"KFC\", \"Shogun\", \"Burger King\"]\n",
    "Output: [\"Shogun\"]\n",
    "Explanation: The restaurant they both like and have the least index sum is \"Shogun\" with index sum 1 (0+1)."
   ]
  },
  {
   "cell_type": "markdown",
   "metadata": {},
   "source": [
    "## Solution(faster than 22.03% of Python)"
   ]
  },
  {
   "cell_type": "code",
   "execution_count": null,
   "metadata": {},
   "outputs": [],
   "source": [
    "class Solution(object):\n",
    "    def findRestaurant(self, list1, list2):\n",
    "        \"\"\"\n",
    "        :type list1: List[str]\n",
    "        :type list2: List[str]\n",
    "        :rtype: List[str]\n",
    "        \"\"\"\n",
    "        dic = {}\n",
    "        for i in range(len(list1)):\n",
    "            if list1[i] in list2:\n",
    "                sumindex = i+ list2.index(list1[i])\n",
    "                dic[list1[i]] = sumindex\n",
    "        dic = sorted(dic.items(),key=lambda x:x[1])\n",
    "        res = []\n",
    "        res.append(dic[0][0])\n",
    "        for i in range(1,len(dic)):\n",
    "            if dic[i][1] == dic[0][1]:\n",
    "                res.append(dic[i][0])\n",
    "        return res"
   ]
  }
 ],
 "metadata": {
  "kernelspec": {
   "display_name": "Python 3",
   "language": "python",
   "name": "python3"
  },
  "language_info": {
   "codemirror_mode": {
    "name": "ipython",
    "version": 3
   },
   "file_extension": ".py",
   "mimetype": "text/x-python",
   "name": "python",
   "nbconvert_exporter": "python",
   "pygments_lexer": "ipython3",
   "version": "3.7.4"
  }
 },
 "nbformat": 4,
 "nbformat_minor": 2
}
