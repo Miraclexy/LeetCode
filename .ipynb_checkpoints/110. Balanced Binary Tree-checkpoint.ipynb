{
 "cells": [
  {
   "cell_type": "markdown",
   "metadata": {},
   "source": [
    "## 110. Balanced Binary Tree"
   ]
  },
  {
   "cell_type": "markdown",
   "metadata": {},
   "source": [
    "### Given a binary tree, determine if it is height-balanced.\n",
    "\n",
    "For this problem, a height-balanced binary tree is defined as:\n",
    "\n",
    "a binary tree in which the depth of the two subtrees of every node never differ by more than 1.\n",
    "\n",
    "Example 1:\n",
    "\n",
    "Given the following tree [3,9,20,null,null,15,7]:\n",
    "\n",
    "    3\n",
    "   / \\\n",
    "  9  20\n",
    "    /  \\\n",
    "   15   7\n",
    "Return true.\n",
    "\n",
    "Example 2:\n",
    "\n",
    "Given the following tree [1,2,2,3,3,null,null,4,4]:\n",
    "\n",
    "       1\n",
    "      / \\\n",
    "     2   2\n",
    "    / \\\n",
    "   3   3\n",
    "  / \\\n",
    " 4   4\n",
    "Return false."
   ]
  },
  {
   "cell_type": "markdown",
   "metadata": {},
   "source": [
    "## Solution(faster than 30.25% of Python3)"
   ]
  },
  {
   "cell_type": "code",
   "execution_count": null,
   "metadata": {},
   "outputs": [],
   "source": [
    "# Definition for a binary tree node.\n",
    "# class TreeNode:\n",
    "#     def __init__(self, x):\n",
    "#         self.val = x\n",
    "#         self.left = None\n",
    "#         self.right = None\n",
    "\n",
    "class Solution:\n",
    "    def isBalanced(self, root: TreeNode) -> bool:\n",
    "        if not root:\n",
    "            return True\n",
    "        def high(node):\n",
    "            if not node:\n",
    "                return 0\n",
    "            return max(high(node.left),high(node.right)) + 1\n",
    "        l = high(root.left)\n",
    "        r = high(root.right)\n",
    "        return abs(l-r) <= 1 and self.isBalanced(root.left) and self.isBalanced(root.right)"
   ]
  }
 ],
 "metadata": {
  "kernelspec": {
   "display_name": "Python 3",
   "language": "python",
   "name": "python3"
  },
  "language_info": {
   "codemirror_mode": {
    "name": "ipython",
    "version": 3
   },
   "file_extension": ".py",
   "mimetype": "text/x-python",
   "name": "python",
   "nbconvert_exporter": "python",
   "pygments_lexer": "ipython3",
   "version": "3.7.3"
  }
 },
 "nbformat": 4,
 "nbformat_minor": 2
}
