{
 "cells": [
  {
   "cell_type": "markdown",
   "metadata": {},
   "source": [
    "## 183. Customers Who Never Order"
   ]
  },
  {
   "cell_type": "markdown",
   "metadata": {},
   "source": [
    "Suppose that a website contains two tables, the Customers table and the Orders table. Write a SQL query to find all customers who never order anything.\n",
    "\n",
    "Table: Customers.\n",
    "\n",
    "+----+-------+\n",
    "| Id | Name  |\n",
    "+----+-------+\n",
    "| 1  | Joe   |\n",
    "| 2  | Henry |\n",
    "| 3  | Sam   |\n",
    "| 4  | Max   |\n",
    "+----+-------+\n",
    "Table: Orders.\n",
    "\n",
    "+----+------------+\n",
    "| Id | CustomerId |\n",
    "+----+------------+\n",
    "| 1  | 3          |\n",
    "| 2  | 1          |\n",
    "+----+------------+\n",
    "Using the above tables as example, return the following:\n",
    "\n",
    "+-----------+\n",
    "| Customers |\n",
    "+-----------+\n",
    "| Henry     |\n",
    "| Max       |\n",
    "+-----------+"
   ]
  },
  {
   "cell_type": "markdown",
   "metadata": {},
   "source": [
    "## Solution(faster than 54.81% of MySQL)"
   ]
  },
  {
   "cell_type": "code",
   "execution_count": null,
   "metadata": {},
   "outputs": [],
   "source": [
    "# Write your MySQL query statement below\n",
    "select a.Name as Customers\n",
    "from\n",
    "(\n",
    "    select Id,Name\n",
    "    from Customers\n",
    ") a\n",
    "left join\n",
    "(\n",
    "    select CustomerId\n",
    "    from Orders\n",
    ") b\n",
    "on a.Id = b.CustomerId\n",
    "where b.CustomerId is null"
   ]
  }
 ],
 "metadata": {
  "kernelspec": {
   "display_name": "Python 3",
   "language": "python",
   "name": "python3"
  },
  "language_info": {
   "codemirror_mode": {
    "name": "ipython",
    "version": 3
   },
   "file_extension": ".py",
   "mimetype": "text/x-python",
   "name": "python",
   "nbconvert_exporter": "python",
   "pygments_lexer": "ipython3",
   "version": "3.7.3"
  }
 },
 "nbformat": 4,
 "nbformat_minor": 2
}
