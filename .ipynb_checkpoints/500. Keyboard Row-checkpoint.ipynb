{
 "cells": [
  {
   "cell_type": "markdown",
   "metadata": {},
   "source": [
    "## 500. Keyboard Row"
   ]
  },
  {
   "cell_type": "markdown",
   "metadata": {},
   "source": [
    "Given a List of words, return the words that can be typed using letters of alphabet on only one row's of American keyboard like the image below.\n",
    "\n",
    " \n",
    "\n",
    "\n",
    "\n",
    " \n",
    "Example:\n",
    "\n",
    "Input: [\"Hello\", \"Alaska\", \"Dad\", \"Peace\"]\n",
    "Output: [\"Alaska\", \"Dad\"]"
   ]
  },
  {
   "cell_type": "markdown",
   "metadata": {},
   "source": [
    "## Solution(faster than 69.63% of Python)"
   ]
  },
  {
   "cell_type": "code",
   "execution_count": null,
   "metadata": {},
   "outputs": [],
   "source": [
    "class Solution(object):\n",
    "    def findWords(self, words):\n",
    "        \"\"\"\n",
    "        :type words: List[str]\n",
    "        :rtype: List[str]\n",
    "        \"\"\"\n",
    "        row1 = ['q','w','e','r','t','y','u','i','o','p']\n",
    "        row2 = ['a','s','d','f','g','h','j','k','l']\n",
    "        row3 = ['z','x','c','v','b','n','m']\n",
    "        \n",
    "        res = []\n",
    "        for word in words:\n",
    "            wordset = set(word.lower())\n",
    "            if wordset.issubset(row1) or wordset.issubset(row2) or wordset.issubset(row3):\n",
    "                res.append(word)\n",
    "        return res"
   ]
  }
 ],
 "metadata": {
  "kernelspec": {
   "display_name": "Python 3",
   "language": "python",
   "name": "python3"
  },
  "language_info": {
   "codemirror_mode": {
    "name": "ipython",
    "version": 3
   },
   "file_extension": ".py",
   "mimetype": "text/x-python",
   "name": "python",
   "nbconvert_exporter": "python",
   "pygments_lexer": "ipython3",
   "version": "3.7.3"
  }
 },
 "nbformat": 4,
 "nbformat_minor": 2
}
