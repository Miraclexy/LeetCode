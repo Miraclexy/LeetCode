{
 "cells": [
  {
   "cell_type": "markdown",
   "metadata": {},
   "source": [
    "## 506. Relative Ranks"
   ]
  },
  {
   "cell_type": "markdown",
   "metadata": {},
   "source": [
    "Given scores of N athletes, find their relative ranks and the people with the top three highest scores, who will be awarded medals: \"Gold Medal\", \"Silver Medal\" and \"Bronze Medal\".\n",
    "\n",
    "Example 1:\n",
    "Input: [5, 4, 3, 2, 1]\n",
    "Output: [\"Gold Medal\", \"Silver Medal\", \"Bronze Medal\", \"4\", \"5\"]\n",
    "Explanation: The first three athletes got the top three highest scores, so they got \"Gold Medal\", \"Silver Medal\" and \"Bronze Medal\". \n",
    "For the left two athletes, you just need to output their relative ranks according to their scores."
   ]
  },
  {
   "cell_type": "markdown",
   "metadata": {},
   "source": [
    "## Solution(faster than 69.01% of Python)"
   ]
  },
  {
   "cell_type": "code",
   "execution_count": null,
   "metadata": {},
   "outputs": [],
   "source": [
    "class Solution(object):\n",
    "    def findRelativeRanks(self, nums):\n",
    "        \"\"\"\n",
    "        :type nums: List[int]\n",
    "        :rtype: List[str]\n",
    "        \"\"\"\n",
    "        rank = sorted(nums,reverse=True)   \n",
    "        dic1 = {}\n",
    "        for i in range(len(rank)):\n",
    "            dic1[rank[i]] = i+1\n",
    "        \n",
    "        # dic2 = {}\n",
    "        # for i in range(len(nums)):\n",
    "        #     dic2[nums[i]] = dic1[nums[i]]\n",
    "            \n",
    "\n",
    "        res = []\n",
    "        for i in range(len(nums)):\n",
    "            if dic1[nums[i]]==1:\n",
    "                res.append('Gold Medal')\n",
    "            elif dic1[nums[i]]==2:\n",
    "                res.append('Silver Medal')\n",
    "            elif dic1[nums[i]]==3:\n",
    "                res.append('Bronze Medal')\n",
    "            else:\n",
    "                res.append(str(dic1[nums[i]]))\n",
    "        return res"
   ]
  }
 ],
 "metadata": {
  "kernelspec": {
   "display_name": "Python 3",
   "language": "python",
   "name": "python3"
  },
  "language_info": {
   "codemirror_mode": {
    "name": "ipython",
    "version": 3
   },
   "file_extension": ".py",
   "mimetype": "text/x-python",
   "name": "python",
   "nbconvert_exporter": "python",
   "pygments_lexer": "ipython3",
   "version": "3.7.3"
  }
 },
 "nbformat": 4,
 "nbformat_minor": 2
}
