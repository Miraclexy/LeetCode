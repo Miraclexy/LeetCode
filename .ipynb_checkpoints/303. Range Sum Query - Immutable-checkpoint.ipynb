{
 "cells": [
  {
   "cell_type": "markdown",
   "metadata": {},
   "source": [
    "## 303. Range Sum Query - Immutable"
   ]
  },
  {
   "cell_type": "markdown",
   "metadata": {},
   "source": [
    "Given an integer array nums, find the sum of the elements between indices i and j (i ≤ j), inclusive.\n",
    "\n",
    "Example:\n",
    "Given nums = [-2, 0, 3, -5, 2, -1]\n",
    "\n",
    "sumRange(0, 2) -> 1\n",
    "sumRange(2, 5) -> -1\n",
    "sumRange(0, 5) -> -3"
   ]
  },
  {
   "cell_type": "markdown",
   "metadata": {},
   "source": [
    "## Solution(faster than 86.36% of Python)"
   ]
  },
  {
   "cell_type": "code",
   "execution_count": null,
   "metadata": {},
   "outputs": [],
   "source": [
    "class NumArray(object):\n",
    "\n",
    "    def __init__(self, nums):\n",
    "        \"\"\"\n",
    "        :type nums: List[int]\n",
    "        \"\"\"\n",
    "        self.res = [0]\n",
    "        for i in range(len(nums)):\n",
    "            self.res.append(self.res[i]+nums[i])\n",
    "        \n",
    "\n",
    "    def sumRange(self, i, j):\n",
    "        \"\"\"\n",
    "        :type i: int\n",
    "        :type j: int\n",
    "        :rtype: int\n",
    "        \"\"\"\n",
    "        return self.res[j+1]-self.res[i]\n",
    "        \n",
    "\n",
    "\n",
    "# Your NumArray object will be instantiated and called as such:\n",
    "# obj = NumArray(nums)\n",
    "# param_1 = obj.sumRange(i,j)"
   ]
  }
 ],
 "metadata": {
  "kernelspec": {
   "display_name": "Python 3",
   "language": "python",
   "name": "python3"
  },
  "language_info": {
   "codemirror_mode": {
    "name": "ipython",
    "version": 3
   },
   "file_extension": ".py",
   "mimetype": "text/x-python",
   "name": "python",
   "nbconvert_exporter": "python",
   "pygments_lexer": "ipython3",
   "version": "3.7.3"
  }
 },
 "nbformat": 4,
 "nbformat_minor": 2
}
