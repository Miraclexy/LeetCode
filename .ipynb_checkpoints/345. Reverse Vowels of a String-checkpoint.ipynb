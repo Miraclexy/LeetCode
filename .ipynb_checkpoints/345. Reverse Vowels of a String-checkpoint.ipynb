{
 "cells": [
  {
   "cell_type": "markdown",
   "metadata": {},
   "source": [
    "## 345. Reverse Vowels of a String"
   ]
  },
  {
   "cell_type": "markdown",
   "metadata": {},
   "source": [
    "Write a function that takes a string as input and reverse only the vowels of a string.\n",
    "\n",
    "Example 1:\n",
    "\n",
    "Input: \"hello\"\n",
    "Output: \"holle\"\n",
    "Example 2:\n",
    "\n",
    "Input: \"leetcode\"\n",
    "Output: \"leotcede\"\n",
    "Note:\n",
    "The vowels does not include the letter \"y\"."
   ]
  },
  {
   "cell_type": "markdown",
   "metadata": {},
   "source": [
    "## Solution(faster than 52.55% of Python)"
   ]
  },
  {
   "cell_type": "code",
   "execution_count": null,
   "metadata": {},
   "outputs": [],
   "source": [
    "class Solution(object):\n",
    "    def reverseVowels(self, s):\n",
    "        \"\"\"\n",
    "        :type s: str\n",
    "        :rtype: str\n",
    "        \"\"\"\n",
    "        s = list(s)\n",
    "        left = 0\n",
    "        right = len(s)-1\n",
    "        while left<=right:\n",
    "            if s[left] in 'aeiouAEIOU' and s[right] in 'aeiouAEIOU':\n",
    "                temp = s[left]\n",
    "                s[left] = s[right]\n",
    "                s[right] = temp\n",
    "                left += 1\n",
    "                right -= 1\n",
    "            elif s[left] in 'aeiouAEIOU' and s[right] not in 'aeiouAEIOU':\n",
    "                right -= 1\n",
    "            else:\n",
    "                left += 1\n",
    "        return ''.join(s)"
   ]
  }
 ],
 "metadata": {
  "kernelspec": {
   "display_name": "Python 3",
   "language": "python",
   "name": "python3"
  },
  "language_info": {
   "codemirror_mode": {
    "name": "ipython",
    "version": 3
   },
   "file_extension": ".py",
   "mimetype": "text/x-python",
   "name": "python",
   "nbconvert_exporter": "python",
   "pygments_lexer": "ipython3",
   "version": "3.7.3"
  }
 },
 "nbformat": 4,
 "nbformat_minor": 2
}
