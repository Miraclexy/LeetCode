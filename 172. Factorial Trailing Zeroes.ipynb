{
 "cells": [
  {
   "cell_type": "markdown",
   "metadata": {},
   "source": [
    "## 172. Factorial Trailing Zeroes"
   ]
  },
  {
   "cell_type": "markdown",
   "metadata": {},
   "source": [
    "### Given an integer n, return the number of trailing zeroes in n!.\n",
    "\n",
    "Example 1:\n",
    "\n",
    "Input: 3\n",
    "Output: 0\n",
    "Explanation: 3! = 6, no trailing zero.\n",
    "Example 2:\n",
    "\n",
    "Input: 5\n",
    "Output: 1\n",
    "Explanation: 5! = 120, one trailing zero.\n",
    "Note: Your solution should be in logarithmic time complexity."
   ]
  },
  {
   "cell_type": "markdown",
   "metadata": {},
   "source": [
    "## Solution(faster than 42.85% of Python3)"
   ]
  },
  {
   "cell_type": "code",
   "execution_count": null,
   "metadata": {},
   "outputs": [],
   "source": [
    "# the number of trailing zeros in factorial is equal to the number of 5*2, which is equal to the number of 5 in factorial\n",
    "class Solution:\n",
    "    def trailingZeroes(self, n: int) -> int:\n",
    "        # the number of trailing zeros in factorial is equal to the number of five\n",
    "        # in factorial\n",
    "        res = 0\n",
    "        while n // 5:\n",
    "            res += n //5 \n",
    "            n = n // 5\n",
    "        return res"
   ]
  }
 ],
 "metadata": {
  "kernelspec": {
   "display_name": "Python 3",
   "language": "python",
   "name": "python3"
  },
  "language_info": {
   "codemirror_mode": {
    "name": "ipython",
    "version": 3
   },
   "file_extension": ".py",
   "mimetype": "text/x-python",
   "name": "python",
   "nbconvert_exporter": "python",
   "pygments_lexer": "ipython3",
   "version": "3.7.3"
  }
 },
 "nbformat": 4,
 "nbformat_minor": 2
}
