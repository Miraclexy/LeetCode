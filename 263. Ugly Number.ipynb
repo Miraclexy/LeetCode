{
 "cells": [
  {
   "cell_type": "markdown",
   "metadata": {},
   "source": [
    "## 263. Ugly Number"
   ]
  },
  {
   "cell_type": "code",
   "execution_count": 14,
   "metadata": {},
   "outputs": [],
   "source": [
    "def isUgly(num):\n",
    "    if num<=0 or num<-2**31 or num>2**31-1:\n",
    "        return False\n",
    "    if num ==1:\n",
    "        return True\n",
    "    res = [1]*((num//2)+1)\n",
    "    res[0],res[1] = 0,0\n",
    "    for i in range(2,num//2+1):\n",
    "        if res[i]:\n",
    "            for k in range(i*2,num//2+1,i):\n",
    "                res[k] = 0\n",
    "    prime = [i for i,v in enumerate(res) if v==1]\n",
    "    print(prime)\n",
    "    for i in prime:\n",
    "        if i!=2 and i!=3 and i!=5 and num%i==0:\n",
    "            return False\n",
    "    return True"
   ]
  },
  {
   "cell_type": "code",
   "execution_count": 15,
   "metadata": {},
   "outputs": [
    {
     "name": "stdout",
     "output_type": "stream",
     "text": [
      "[2, 3]\n"
     ]
    },
    {
     "data": {
      "text/plain": [
       "True"
      ]
     },
     "execution_count": 15,
     "metadata": {},
     "output_type": "execute_result"
    }
   ],
   "source": [
    "isUgly(7)"
   ]
  },
  {
   "cell_type": "code",
   "execution_count": null,
   "metadata": {},
   "outputs": [],
   "source": []
  }
 ],
 "metadata": {
  "kernelspec": {
   "display_name": "Python 3",
   "language": "python",
   "name": "python3"
  },
  "language_info": {
   "codemirror_mode": {
    "name": "ipython",
    "version": 3
   },
   "file_extension": ".py",
   "mimetype": "text/x-python",
   "name": "python",
   "nbconvert_exporter": "python",
   "pygments_lexer": "ipython3",
   "version": "3.7.3"
  }
 },
 "nbformat": 4,
 "nbformat_minor": 2
}
