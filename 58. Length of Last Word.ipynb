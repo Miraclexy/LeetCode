{
 "cells": [
  {
   "cell_type": "markdown",
   "metadata": {},
   "source": [
    "## 58. Length of Last Word"
   ]
  },
  {
   "cell_type": "markdown",
   "metadata": {},
   "source": [
    "### Given a string s consists of upper/lower-case alphabets and empty space characters ' ', return the length of last word in the string.\n",
    "\n",
    "If the last word does not exist, return 0.\n",
    "\n",
    "Note: A word is defined as a character sequence consists of non-space characters only.\n",
    "\n",
    "Example:\n",
    "\n",
    "Input: \"Hello World\"\n",
    "Output: 5"
   ]
  },
  {
   "cell_type": "markdown",
   "metadata": {},
   "source": [
    "## Solution(faster than 67.15% of Python3)"
   ]
  },
  {
   "cell_type": "code",
   "execution_count": 1,
   "metadata": {},
   "outputs": [],
   "source": [
    "def lengthOfLastWord(self, s: str) -> int:\n",
    "    if not s:\n",
    "        return 0 \n",
    "    if s.isspace(): #justify whether s is emptybox\n",
    "        return 0\n",
    "    a = s.split(' ')\n",
    "    while len(a[-1])==0:\n",
    "        a.pop() # remove all the emptybox at the end of s\n",
    "    return len(a[-1])"
   ]
  },
  {
   "cell_type": "code",
   "execution_count": null,
   "metadata": {},
   "outputs": [],
   "source": []
  }
 ],
 "metadata": {
  "kernelspec": {
   "display_name": "Python 3",
   "language": "python",
   "name": "python3"
  },
  "language_info": {
   "codemirror_mode": {
    "name": "ipython",
    "version": 3
   },
   "file_extension": ".py",
   "mimetype": "text/x-python",
   "name": "python",
   "nbconvert_exporter": "python",
   "pygments_lexer": "ipython3",
   "version": "3.7.3"
  }
 },
 "nbformat": 4,
 "nbformat_minor": 2
}
