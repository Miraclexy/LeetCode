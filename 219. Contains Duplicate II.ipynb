{
 "cells": [
  {
   "cell_type": "markdown",
   "metadata": {},
   "source": [
    "## 219. Contains Duplicate II"
   ]
  },
  {
   "cell_type": "markdown",
   "metadata": {},
   "source": [
    "Given an array of integers and an integer k, find out whether there are two distinct indices i and j in the array such that nums[i] = nums[j] and the absolute difference between i and j is at most k.\n",
    "\n",
    "Example 1:\n",
    "\n",
    "Input: nums = [1,2,3,1], k = 3\n",
    "Output: true\n",
    "Example 2:\n",
    "\n",
    "Input: nums = [1,0,1,1], k = 1\n",
    "Output: true\n",
    "Example 3:\n",
    "\n",
    "Input: nums = [1,2,3,1,2,3], k = 2\n",
    "Output: false"
   ]
  },
  {
   "cell_type": "markdown",
   "metadata": {},
   "source": [
    "## Solution(faster than 87.30% of Python)"
   ]
  },
  {
   "cell_type": "code",
   "execution_count": null,
   "metadata": {},
   "outputs": [],
   "source": [
    "class Solution(object):\n",
    "    def containsNearbyDuplicate(self, nums, k):\n",
    "        \"\"\"\n",
    "        :type nums: List[int]\n",
    "        :type k: int\n",
    "        :rtype: bool\n",
    "        \"\"\"\n",
    "        if not nums:\n",
    "            return False\n",
    "        dict = {}\n",
    "        dict[nums[0]] = 0\n",
    "        for i in range(1,len(nums)):\n",
    "            if nums[i] in dict and i-dict[nums[i]]<=k:\n",
    "                return True\n",
    "            dict[nums[i]] = i\n",
    "        return False"
   ]
  }
 ],
 "metadata": {
  "kernelspec": {
   "display_name": "Python 3",
   "language": "python",
   "name": "python3"
  },
  "language_info": {
   "codemirror_mode": {
    "name": "ipython",
    "version": 3
   },
   "file_extension": ".py",
   "mimetype": "text/x-python",
   "name": "python",
   "nbconvert_exporter": "python",
   "pygments_lexer": "ipython3",
   "version": "3.7.3"
  }
 },
 "nbformat": 4,
 "nbformat_minor": 2
}
