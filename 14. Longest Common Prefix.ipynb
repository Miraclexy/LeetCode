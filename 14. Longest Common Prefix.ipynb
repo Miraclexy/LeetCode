{
 "cells": [
  {
   "cell_type": "markdown",
   "metadata": {},
   "source": [
    "### 14. Longest Common Prefix"
   ]
  },
  {
   "cell_type": "markdown",
   "metadata": {},
   "source": [
    "Write a function to find the longest common prefix string amongst an array of strings.\n",
    "\n",
    "If there is no common prefix, return an empty string \"\".\n",
    "\n",
    "Example 1:\n",
    "\n",
    "Input: [\"flower\",\"flow\",\"flight\"]\n",
    "Output: \"fl\"\n",
    "Example 2:\n",
    "\n",
    "Input: [\"dog\",\"racecar\",\"car\"]\n",
    "Output: \"\"\n",
    "Explanation: There is no common prefix among the input strings.\n",
    "Note:\n",
    "\n",
    "All given inputs are in lowercase letters a-z."
   ]
  },
  {
   "cell_type": "markdown",
   "metadata": {},
   "source": [
    "#### solution(faster than 82.70%)"
   ]
  },
  {
   "cell_type": "code",
   "execution_count": 33,
   "metadata": {},
   "outputs": [],
   "source": [
    "class Solution:\n",
    "    def longestCommonPrefix(self, strs):\n",
    "        \"\"\"\n",
    "        :type strs: List[str]\n",
    "        :rtype: str\n",
    "        \"\"\"\n",
    "        if strs.count('')!=0 or not strs:\n",
    "            return ''\n",
    "        elif len(set(strs))==1:\n",
    "            return strs[0]\n",
    "        else:            \n",
    "            shortest=min(strs,key=len)\n",
    "            for i in range(len(shortest)): \n",
    "                result=list(map(lambda x: 1 if x.startswith(shortest[0:i+1]) else 0,strs)) \n",
    "                if set(result)!={1}:\n",
    "                    break\n",
    "            if i==len(shortest)-1 and set(list(map(lambda x: 1 if x.startswith(shortest[0:len(shortest)]) else 0,strs)))=={1} :\n",
    "                return shortest\n",
    "            else:\n",
    "                return shortest[0:i]"
   ]
  },
  {
   "cell_type": "markdown",
   "metadata": {},
   "source": [
    "#### another brilliant solution"
   ]
  },
  {
   "cell_type": "code",
   "execution_count": 36,
   "metadata": {
    "collapsed": true
   },
   "outputs": [],
   "source": [
    "class Solution:\n",
    "    def longestCommonPrefix(self, m):\n",
    "        if not m: return ''\n",
    "\t\t\t\t#since list of string will be sorted and retrieved min max by alphebetic order\n",
    "        s1 = min(m)\n",
    "        s2 = max(m)\n",
    "\n",
    "        for i, c in enumerate(s1):\n",
    "            if c != s2[i]:\n",
    "                return s1[:i] #stop until hit the split index\n",
    "        return s1"
   ]
  }
 ],
 "metadata": {
  "kernelspec": {
   "display_name": "Python 3",
   "language": "python",
   "name": "python3"
  },
  "language_info": {
   "codemirror_mode": {
    "name": "ipython",
    "version": 3
   },
   "file_extension": ".py",
   "mimetype": "text/x-python",
   "name": "python",
   "nbconvert_exporter": "python",
   "pygments_lexer": "ipython3",
   "version": "3.6.3"
  }
 },
 "nbformat": 4,
 "nbformat_minor": 2
}
