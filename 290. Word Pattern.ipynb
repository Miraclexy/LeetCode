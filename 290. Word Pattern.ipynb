{
 "cells": [
  {
   "cell_type": "markdown",
   "metadata": {},
   "source": [
    "## 290. Word Pattern"
   ]
  },
  {
   "cell_type": "markdown",
   "metadata": {},
   "source": [
    "Given a pattern and a string str, find if str follows the same pattern.\n",
    "\n",
    "Here follow means a full match, such that there is a bijection between a letter in pattern and a non-empty word in str.\n",
    "\n",
    "Example 1:\n",
    "\n",
    "Input: pattern = \"abba\", str = \"dog cat cat dog\"\n",
    "Output: true\n",
    "Example 2:\n",
    "\n",
    "Input:pattern = \"abba\", str = \"dog cat cat fish\"\n",
    "Output: false\n",
    "Example 3:\n",
    "\n",
    "Input: pattern = \"aaaa\", str = \"dog cat cat dog\"\n",
    "Output: false\n",
    "Example 4:\n",
    "\n",
    "Input: pattern = \"abba\", str = \"dog dog dog dog\"\n",
    "Output: false"
   ]
  },
  {
   "cell_type": "markdown",
   "metadata": {},
   "source": [
    "## Solution(faster than 36.78% of Python)"
   ]
  },
  {
   "cell_type": "code",
   "execution_count": 14,
   "metadata": {},
   "outputs": [],
   "source": [
    "class Solution(object):\n",
    "    def wordPattern(self, pattern, str):\n",
    "        \"\"\"\n",
    "        :type pattern: str\n",
    "        :type str: str\n",
    "        :rtype: bool\n",
    "        \"\"\"\n",
    "        str = str.split()\n",
    "        if len(pattern)!=len(str):\n",
    "            return False\n",
    "        mapping = {}\n",
    "        for i in range(len(pattern)):\n",
    "            if pattern[i] not in mapping.keys() and str[i] not in mapping.values():\n",
    "                mapping[pattern[i]] = str[i]\n",
    "            if str[i]!= mapping.get(pattern[i]):\n",
    "                return False\n",
    "        return True"
   ]
  }
 ],
 "metadata": {
  "kernelspec": {
   "display_name": "Python 3",
   "language": "python",
   "name": "python3"
  },
  "language_info": {
   "codemirror_mode": {
    "name": "ipython",
    "version": 3
   },
   "file_extension": ".py",
   "mimetype": "text/x-python",
   "name": "python",
   "nbconvert_exporter": "python",
   "pygments_lexer": "ipython3",
   "version": "3.7.3"
  }
 },
 "nbformat": 4,
 "nbformat_minor": 2
}
